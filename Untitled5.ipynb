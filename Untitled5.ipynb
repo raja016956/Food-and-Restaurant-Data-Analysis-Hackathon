{
  "nbformat": 4,
  "nbformat_minor": 0,
  "metadata": {
    "colab": {
      "provenance": [],
      "authorship_tag": "ABX9TyMIKrWfp9qfpX1PjBBWIV62",
      "include_colab_link": true
    },
    "kernelspec": {
      "name": "python3",
      "display_name": "Python 3"
    },
    "language_info": {
      "name": "python"
    }
  },
  "cells": [
    {
      "cell_type": "markdown",
      "metadata": {
        "id": "view-in-github",
        "colab_type": "text"
      },
      "source": [
        "<a href=\"https://colab.research.google.com/github/raja016956/Food-and-Restaurant-Data-Analysis-Hackathon/blob/main/Untitled5.ipynb\" target=\"_parent\"><img src=\"https://colab.research.google.com/assets/colab-badge.svg\" alt=\"Open In Colab\"/></a>"
      ]
    },
    {
      "cell_type": "code",
      "execution_count": null,
      "metadata": {
        "id": "FuHnKwVJhVWb"
      },
      "outputs": [],
      "source": []
    },
    {
      "cell_type": "markdown",
      "source": [
        "# **MCQ-based Question's Answers**"
      ],
      "metadata": {
        "id": "maAVblZxPpJ-"
      }
    },
    {
      "cell_type": "markdown",
      "source": [
        "## **Q1. What is the shape of the given dataset?**"
      ],
      "metadata": {
        "id": "xHq6iUHyP2Ly"
      }
    },
    {
      "cell_type": "code",
      "source": [
        "Zomato_data.shape"
      ],
      "metadata": {
        "colab": {
          "base_uri": "https://localhost:8080/"
        },
        "id": "XdM3igbvPyAW",
        "outputId": "556a7389-b3bb-41a8-9ebe-1acd7c21ac66"
      },
      "execution_count": null,
      "outputs": [
        {
          "output_type": "execute_result",
          "data": {
            "text/plain": [
              "(51717, 10)"
            ]
          },
          "metadata": {},
          "execution_count": 66
        }
      ]
    },
    {
      "cell_type": "markdown",
      "source": [
        "## **Q2. How many restaurants serve North Indian cuisine?**"
      ],
      "metadata": {
        "id": "Vn_L6CWbQALJ"
      }
    },
    {
      "cell_type": "code",
      "source": [
        "Zomato_data[Zomato_data['cuisines'].str.contains('North Indian', na=False)].shape[0]\n"
      ],
      "metadata": {
        "colab": {
          "base_uri": "https://localhost:8080/"
        },
        "id": "jSBT43cnP9VG",
        "outputId": "540832ae-f27e-4047-ddaf-451fc482409b"
      },
      "execution_count": null,
      "outputs": [
        {
          "output_type": "execute_result",
          "data": {
            "text/plain": [
              "21085"
            ]
          },
          "metadata": {},
          "execution_count": 67
        }
      ]
    },
    {
      "cell_type": "markdown",
      "source": [
        "## **Q3: Most commonly offered cuisine:**"
      ],
      "metadata": {
        "id": "eIwifdBMQG7B"
      }
    },
    {
      "cell_type": "code",
      "source": [
        "from collections import Counter\n",
        "import itertools\n",
        "\n",
        "# Split cuisines and flatten the list\n",
        "cuisine_series = Zomato_data['cuisines'].dropna().apply(lambda x: [i.strip() for i in x.split(',')])\n",
        "all_cuisines = list(itertools.chain.from_iterable(cuisine_series))\n",
        "\n",
        "# Get the most common cuisine\n",
        "most_common_cuisine = Counter(all_cuisines).most_common(1)[0][0]\n",
        "most_common_cuisine\n"
      ],
      "metadata": {
        "colab": {
          "base_uri": "https://localhost:8080/",
          "height": 35
        },
        "id": "WwHE4akJQEJP",
        "outputId": "d3529801-acb5-4ef2-da81-410936f15860"
      },
      "execution_count": null,
      "outputs": [
        {
          "output_type": "execute_result",
          "data": {
            "text/plain": [
              "'North Indian'"
            ],
            "application/vnd.google.colaboratory.intrinsic+json": {
              "type": "string"
            }
          },
          "metadata": {},
          "execution_count": 73
        }
      ]
    },
    {
      "cell_type": "markdown",
      "source": [
        "## **Q4: Which locality in Bangalore has the highest average cost for dining (for two people)?**"
      ],
      "metadata": {
        "id": "7xSDUyeMQ6Pb"
      }
    },
    {
      "cell_type": "code",
      "source": [
        "# Grouping by locality and calculating the average cost\n",
        "avg_cost_by_locality = merged_datasets.groupby('listed_incity')['approx_costfor_two_people'].mean().sort_values(ascending=False)\n",
        "\n",
        "# Showing the locality with highest average cost\n",
        "highest_avg_cost_locality = avg_cost_by_locality.idxmax()\n",
        "highest_avg_cost_locality\n"
      ],
      "metadata": {
        "colab": {
          "base_uri": "https://localhost:8080/",
          "height": 35
        },
        "id": "U4obqXE7Q7uW",
        "outputId": "f82be72b-f938-4de2-df69-42b0ac8aad66"
      },
      "execution_count": null,
      "outputs": [
        {
          "output_type": "execute_result",
          "data": {
            "text/plain": [
              "'Church Street'"
            ],
            "application/vnd.google.colaboratory.intrinsic+json": {
              "type": "string"
            }
          },
          "metadata": {},
          "execution_count": 70
        }
      ]
    },
    {
      "cell_type": "markdown",
      "source": [
        "## **Q5: Which restaurant type has the top rating with over 1000 votes?**"
      ],
      "metadata": {
        "id": "6nTDjO8bSMqQ"
      }
    },
    {
      "cell_type": "code",
      "source": [
        "# Filtering restaurants with more than 1000 votes\n",
        "votes_1000 = merged_datasets[merged_datasets['votes'] > 1000]\n",
        "\n",
        "# Grouping by restaurant type and finding the one with highest average rating\n",
        "top_rest_type = votes_1000.groupby('rest_type')['rate'].mean().sort_values(ascending=False).idxmax()\n",
        "top_rest_type\n"
      ],
      "metadata": {
        "colab": {
          "base_uri": "https://localhost:8080/",
          "height": 36
        },
        "id": "HxRk4CniUfja",
        "outputId": "243dd6e6-ee05-45a5-d70a-28d9dddeaceb"
      },
      "execution_count": null,
      "outputs": [
        {
          "output_type": "execute_result",
          "data": {
            "text/plain": [
              "'Bakery'"
            ],
            "application/vnd.google.colaboratory.intrinsic+json": {
              "type": "string"
            }
          },
          "metadata": {},
          "execution_count": 83
        }
      ]
    },
    {
      "cell_type": "markdown",
      "source": [
        "## **Q6: Minimum cost to eat out in Bangalore**"
      ],
      "metadata": {
        "id": "c4hpaPcxUWFM"
      }
    },
    {
      "cell_type": "code",
      "source": [
        "# Getting the minimum cost value\n",
        "min_cost = merged_datasets['approx_costfor_two_people'].min()\n",
        "min_cost\n"
      ],
      "metadata": {
        "colab": {
          "base_uri": "https://localhost:8080/"
        },
        "id": "xO1qpVshUgHa",
        "outputId": "851878f1-2401-44ce-d1cd-718869ea67de"
      },
      "execution_count": null,
      "outputs": [
        {
          "output_type": "execute_result",
          "data": {
            "text/plain": [
              "40"
            ]
          },
          "metadata": {},
          "execution_count": 103
        }
      ]
    },
    {
      "cell_type": "markdown",
      "source": [
        "## **Q7: Percentage of online orders in Banashankari**"
      ],
      "metadata": {
        "id": "-kX2iLwpUac7"
      }
    },
    {
      "cell_type": "code",
      "source": [
        "# Filtering for Banashankari\n",
        "banashankari_orders = merged_datasets[merged_datasets['listed_incity'] == 'Banashankari']\n",
        "\n",
        "# Counting online order restaurants in Banashankari\n",
        "online_orders = banashankari_orders[banashankari_orders['online_order'] == 'Yes'].shape[0]\n",
        "\n",
        "# Total restaurants in Banashankari\n",
        "total_banashankari = banashankari_orders.shape[0]\n",
        "\n",
        "# Calculating percentage\n",
        "percentage_online = (online_orders / total_banashankari) * 100\n",
        "percentage_online\n"
      ],
      "metadata": {
        "colab": {
          "base_uri": "https://localhost:8080/"
        },
        "id": "2EnbZm2yUgmC",
        "outputId": "4307fd9c-380b-4eb8-9a84-296d3ddca80d"
      },
      "execution_count": null,
      "outputs": [
        {
          "output_type": "execute_result",
          "data": {
            "text/plain": [
              "63.26767091541136"
            ]
          },
          "metadata": {},
          "execution_count": 115
        }
      ]
    },
    {
      "cell_type": "markdown",
      "source": [
        "## **Q8: Locality with most restaurants with >500 votes & rating <3.0**"
      ],
      "metadata": {
        "id": "81LJvHmoUdz3"
      }
    },
    {
      "cell_type": "code",
      "source": [
        "# Filtering based on condition\n",
        "low_rating_votes = merged_datasets[(merged_datasets['votes'] > 500) & (merged_datasets['rate'] < 3.0)]\n",
        "\n",
        "# Finding locality with most such restaurants\n",
        "most_common_locality = low_rating_votes['listed_incity'].value_counts().idxmax()\n",
        "most_common_locality\n"
      ],
      "metadata": {
        "colab": {
          "base_uri": "https://localhost:8080/",
          "height": 36
        },
        "id": "i0Xls-M_UKkS",
        "outputId": "4b257a31-2ff4-46fa-c9c2-ca952df8b914"
      },
      "execution_count": null,
      "outputs": [
        {
          "output_type": "execute_result",
          "data": {
            "text/plain": [
              "'Brookefield'"
            ],
            "application/vnd.google.colaboratory.intrinsic+json": {
              "type": "string"
            }
          },
          "metadata": {},
          "execution_count": 84
        }
      ]
    },
    {
      "cell_type": "markdown",
      "source": [
        "## **Q9: Locality with most diverse restaurant types**"
      ],
      "metadata": {
        "id": "iC6XNsArU_gl"
      }
    },
    {
      "cell_type": "code",
      "source": [
        "# Counting unique restaurant types per locality\n",
        "diversity = merged_datasets.groupby('listed_incity')['rest_type'].nunique()\n",
        "\n",
        "# Finding locality with highest diversity\n",
        "most_diverse = diversity.idxmax()\n",
        "most_diverse\n"
      ],
      "metadata": {
        "colab": {
          "base_uri": "https://localhost:8080/",
          "height": 36
        },
        "id": "cj-cz5fzU58f",
        "outputId": "57abc072-0ef7-45e0-d53a-8fa8bede95de"
      },
      "execution_count": null,
      "outputs": [
        {
          "output_type": "execute_result",
          "data": {
            "text/plain": [
              "'BTM'"
            ],
            "application/vnd.google.colaboratory.intrinsic+json": {
              "type": "string"
            }
          },
          "metadata": {},
          "execution_count": 85
        }
      ]
    },
    {
      "cell_type": "markdown",
      "source": [
        "## **Q10: Average cost difference between buffet and delivery restaurants**"
      ],
      "metadata": {
        "id": "5AoeWaQXVCrS"
      }
    },
    {
      "cell_type": "code",
      "source": [
        "# Filter data for Buffet and Delivery restaurants\n",
        "buffet_cost = merged_datasets[merged_datasets['rest_type'].str.contains('Buffet', na=False)]['approx_costfor_two_people']\n",
        "delivery_cost = merged_datasets[merged_datasets['rest_type'].str.contains('Delivery', na=False)]['approx_costfor_two_people']\n",
        "\n",
        "# Calculate average costs\n",
        "buffet_avg_cost = buffet_cost.mean()\n",
        "delivery_avg_cost = delivery_cost.mean()\n",
        "\n",
        "# Calculate the cost difference\n",
        "cost_difference = abs(buffet_avg_cost - delivery_avg_cost)\n",
        "\n",
        "# Print the results\n",
        "print(f\"Buffet Avg Cost: ₹{buffet_avg_cost}\")\n",
        "print(f\"Delivery Avg Cost: ₹{delivery_avg_cost}\")\n",
        "print(f\"Cost Difference: ₹{cost_difference}\")\n"
      ],
      "metadata": {
        "colab": {
          "base_uri": "https://localhost:8080/"
        },
        "id": "6MWeHqJ9U9Vn",
        "outputId": "8d15ee41-c87d-42b5-b493-0bf0a4143e3b"
      },
      "execution_count": null,
      "outputs": [
        {
          "output_type": "stream",
          "name": "stdout",
          "text": [
            "Buffet Avg Cost: ₹nan\n",
            "Delivery Avg Cost: ₹414.2521408182683\n",
            "Cost Difference: ₹nan\n"
          ]
        }
      ]
    },
    {
      "cell_type": "markdown",
      "source": [
        "## **Q11: Max votes for any restaurant with online ordering**"
      ],
      "metadata": {
        "id": "i4lgd6y1VR_r"
      }
    },
    {
      "cell_type": "code",
      "source": [
        "# Filtering for online ordering restaurants\n",
        "online_restaurants = merged_datasets[merged_datasets['online_order'] == 'Yes']\n",
        "\n",
        "# Getting maximum votes\n",
        "max_votes = online_restaurants['votes'].max()\n",
        "max_votes\n"
      ],
      "metadata": {
        "colab": {
          "base_uri": "https://localhost:8080/"
        },
        "id": "OElJTrQsVKvA",
        "outputId": "c2f313c1-4ec3-453b-c56f-0240357d7b78"
      },
      "execution_count": null,
      "outputs": [
        {
          "output_type": "execute_result",
          "data": {
            "text/plain": [
              "16345"
            ]
          },
          "metadata": {},
          "execution_count": 99
        }
      ]
    },
    {
      "cell_type": "markdown",
      "source": [
        "## **Q12: Average rating of restaurants serving both North Indian & Chinese**"
      ],
      "metadata": {
        "id": "OP8eETlLVYPz"
      }
    },
    {
      "cell_type": "code",
      "source": [
        "# Filtering restaurants offering both cuisines\n",
        "ni_ch = merged_datasets[merged_datasets['cuisines'].str.contains(\"North Indian\", na=False) &\n",
        "                        merged_datasets['cuisines'].str.contains(\"Chinese\", na=False)]\n",
        "\n",
        "# Average rating\n",
        "avg_rating = ni_ch['rate'].mean()\n",
        "print(format(avg_rating))\n"
      ],
      "metadata": {
        "colab": {
          "base_uri": "https://localhost:8080/"
        },
        "id": "VQ4w75OGVVKf",
        "outputId": "1fb8af0a-6a0e-4e8f-8f69-7569a7c4f8bd"
      },
      "execution_count": null,
      "outputs": [
        {
          "output_type": "stream",
          "name": "stdout",
          "text": [
            "3.5948912294517177\n"
          ]
        }
      ]
    },
    {
      "cell_type": "markdown",
      "source": [
        "## **Q13: Most profitable area (based on revenue = rating * cost * votes)**"
      ],
      "metadata": {
        "id": "4GNa1i3IVbzj"
      }
    },
    {
      "cell_type": "code",
      "source": [
        "# Creating a new column for potential revenue estimation\n",
        "merged_datasets['potential_revenue'] = merged_datasets['rate'] * merged_datasets['approx_costfor_two_people'] * merged_datasets['votes']\n",
        "\n",
        "# Grouping by area and summing revenue\n",
        "revenue_by_area = merged_datasets.groupby('listed_incity')['potential_revenue'].sum()\n",
        "\n",
        "# Most profitable area\n",
        "most_profitable_area = revenue_by_area.idxmax()\n",
        "most_profitable_area\n"
      ],
      "metadata": {
        "colab": {
          "base_uri": "https://localhost:8080/",
          "height": 36
        },
        "id": "JrkOvjSoVdiH",
        "outputId": "90e046c3-efdd-4fc9-9d37-9d7f32242fac"
      },
      "execution_count": null,
      "outputs": [
        {
          "output_type": "execute_result",
          "data": {
            "text/plain": [
              "'Koramangala 7th Block'"
            ],
            "application/vnd.google.colaboratory.intrinsic+json": {
              "type": "string"
            }
          },
          "metadata": {},
          "execution_count": 96
        }
      ]
    },
    {
      "cell_type": "markdown",
      "source": [
        "## **Q14: Restaurant type with lowest avg rating (focus on complaints)**"
      ],
      "metadata": {
        "id": "Nv3U7KmqVjNH"
      }
    },
    {
      "cell_type": "code",
      "source": [
        "# Dropping rows with missing values in columns\n",
        "filtered_df = Zomato_data.dropna(subset=['rate', 'rest_type'])\n",
        "\n",
        "# calculate average rating\n",
        "rest_type_rating = filtered_df.groupby('rest_type')['rate'].mean().sort_values()\n",
        "\n",
        "#  the restaurant type with the lowest average rating\n",
        "lowest_rated_rest_type = rest_type_rating.idxmin()\n",
        "\n",
        "lowest_rated_rest_type"
      ],
      "metadata": {
        "colab": {
          "base_uri": "https://localhost:8080/",
          "height": 36
        },
        "id": "Jp0wUkpkVhSH",
        "outputId": "3632008f-d2c5-456c-bc25-786f5223bc25"
      },
      "execution_count": null,
      "outputs": [
        {
          "output_type": "execute_result",
          "data": {
            "text/plain": [
              "'Dessert Parlor, Kiosk'"
            ],
            "application/vnd.google.colaboratory.intrinsic+json": {
              "type": "string"
            }
          },
          "metadata": {},
          "execution_count": 105
        }
      ]
    },
    {
      "cell_type": "markdown",
      "source": [
        "## **Q15: Area with high rating (>4.2), high votes (>500), and online order**"
      ],
      "metadata": {
        "id": "ZA1A8L4gVnMJ"
      }
    },
    {
      "cell_type": "code",
      "source": [
        "# Filtering based on all 3 conditions\n",
        "top_picks = merged_datasets[(merged_datasets['rate'] > 4.2) &\n",
        "                            (merged_datasets['votes'] > 500) &\n",
        "                            (merged_datasets['online_order'] == 'Yes')]\n",
        "\n",
        "# Finding locality with most such restaurants\n",
        "best_area = top_picks['listed_incity'].value_counts().idxmax()\n",
        "best_area\n"
      ],
      "metadata": {
        "colab": {
          "base_uri": "https://localhost:8080/",
          "height": 36
        },
        "id": "6B0bwYCyVoVh",
        "outputId": "058f407b-b4d6-438f-8862-bf8dffd98faa"
      },
      "execution_count": null,
      "outputs": [
        {
          "output_type": "execute_result",
          "data": {
            "text/plain": [
              "'Koramangala 7th Block'"
            ],
            "application/vnd.google.colaboratory.intrinsic+json": {
              "type": "string"
            }
          },
          "metadata": {},
          "execution_count": 94
        }
      ]
    },
    {
      "cell_type": "code",
      "source": [],
      "metadata": {
        "id": "77UHlIZ6VsKP"
      },
      "execution_count": null,
      "outputs": []
    }
  ]
}